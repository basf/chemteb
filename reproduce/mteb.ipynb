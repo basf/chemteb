{
 "cells": [
  {
   "cell_type": "code",
   "execution_count": 1,
   "metadata": {},
   "outputs": [],
   "source": [
    "import os\n",
    "import json\n",
    "from tqdm import tqdm\n",
    "import pandas as pd"
   ]
  },
  {
   "cell_type": "code",
   "execution_count": 2,
   "metadata": {},
   "outputs": [],
   "source": [
    "PAPER_RES = 'chemteb-results'\n",
    "MTEB_RES = 'mteb-results'"
   ]
  },
  {
   "cell_type": "code",
   "execution_count": 3,
   "metadata": {},
   "outputs": [],
   "source": [
    "def read_main_score(path):\n",
    "    with open(path, 'r') as f:\n",
    "        data = json.load(f)\n",
    "    return data['scores']['test'][0]['main_score']"
   ]
  },
  {
   "cell_type": "markdown",
   "metadata": {},
   "source": [
    "First, you need to clone the following repo in the same directory as this notebook:\n",
    "```bash\n",
    "git clone https://github.com/HSILA/mteb-results.git\n",
    "```"
   ]
  },
  {
   "cell_type": "code",
   "execution_count": 4,
   "metadata": {},
   "outputs": [],
   "source": [
    "TASKS = ['ChemHotpotQARetrieval.json',\n",
    "         'ChemNQRetrieval.json',\n",
    "         'PubChemAISentenceParaphrasePC.json',\n",
    "         'PubChemSMILESBitextMining.json',\n",
    "         'PubChemSMILESPC.json',\n",
    "         'PubChemSynonymPC.json',\n",
    "         'PubChemWikiPairClassification.json',\n",
    "         'PubChemWikiParagraphsPC.json',\n",
    "         'SDSEyeProtectionClassification.json',\n",
    "         'SDSGlovesClassification.json',\n",
    "         'WikipediaBiolumNeurochemClassification.json',\n",
    "         'WikipediaBioMetChemClassification.json',\n",
    "         'WikipediaChemEngSpecialtiesClassification.json',\n",
    "         'WikipediaChemFieldsClassification.json',\n",
    "         'WikipediaChemistryTopicsClassification.json',\n",
    "         'WikipediaChemistryTopicsClustering.json',\n",
    "         'WikipediaCompChemSpectroscopyClassification.json',\n",
    "         'WikipediaCryobiologySeparationClassification.json',\n",
    "         'WikipediaCrystallographyAnalyticalClassification.json',\n",
    "         'WikipediaGreenhouseEnantiopureClassification.json',\n",
    "         'WikipediaIsotopesFissionClassification.json',\n",
    "         'WikipediaLuminescenceClassification.json',\n",
    "         'WikipediaOrganicInorganicClassification.json',\n",
    "         'WikipediaSaltsSemiconductorsClassification.json',\n",
    "         'WikipediaSolidStateColloidalClassification.json',\n",
    "         'WikipediaSpecialtiesInChemistryClustering.json',\n",
    "         'WikipediaTheoreticalAppliedClassification.json']"
   ]
  },
  {
   "cell_type": "code",
   "execution_count": 5,
   "metadata": {},
   "outputs": [],
   "source": [
    "def find_json_files(base_path, json_file_names):\n",
    "    json_file_paths = []\n",
    "\n",
    "    for root, dirs, files in os.walk(base_path):\n",
    "        for file in files:\n",
    "            if file in json_file_names and file.endswith('.json'):\n",
    "                json_file_paths.append(os.path.join(root, file))\n",
    "\n",
    "    return json_file_paths"
   ]
  },
  {
   "cell_type": "code",
   "execution_count": 6,
   "metadata": {},
   "outputs": [
    {
     "name": "stdout",
     "output_type": "stream",
     "text": [
      "number of evaluated models: 34\n"
     ]
    }
   ],
   "source": [
    "json_file_paths = find_json_files(MTEB_RES, TASKS)\n",
    "print(f'number of evaluated models: {int(len(json_file_paths) / len(TASKS))}')"
   ]
  },
  {
   "cell_type": "markdown",
   "metadata": {},
   "source": [
    "Extracting models and revisions from the results:"
   ]
  },
  {
   "cell_type": "code",
   "execution_count": 7,
   "metadata": {},
   "outputs": [],
   "source": [
    "model_rev_map = {}\n",
    "\n",
    "for el in json_file_paths:\n",
    "    splitted = el.split(os.path.sep)\n",
    "    model = splitted[2]\n",
    "    rev = splitted[3]\n",
    "    if model not in model_rev_map.keys():\n",
    "        model_rev_map[model] = rev"
   ]
  },
  {
   "cell_type": "code",
   "execution_count": 8,
   "metadata": {},
   "outputs": [],
   "source": [
    "model_mapping = {'sentence-transformers__all-MiniLM-L12-v2': 'all-MiniLM-L12-v2',\n",
    "                 'sentence-transformers__all-MiniLM-L6-v2': 'all-MiniLM-L6-v2',\n",
    "                 'sentence-transformers__all-mpnet-base-v2': 'all-mpnet-base-v2',\n",
    "                 'bedrock__amazon-titan-embed-text-v1': 'amazon-titan-embed-text-v1',\n",
    "                 'bedrock__amazon-titan-embed-text-v2': 'amazon-titan-embed-text-v2',\n",
    "                 'bedrock__cohere-embed-english-v3': 'cohere-embed-english-v3',\n",
    "                 'bedrock__cohere-embed-multilingual-v3': 'cohere-embed-multilingual-v3',\n",
    "                 'sentence-transformers__multi-qa-mpnet-base-dot-v1': 'multi-qa-mpnet-base-dot-v1',\n",
    "                 'openai__text-embedding-3-large': 'text-embedding-3-large',\n",
    "                 'openai__text-embedding-3-small': 'text-embedding-3-small',\n",
    "                 'openai__text-embedding-ada-002': 'text-embedding-ada-002'}"
   ]
  },
  {
   "cell_type": "code",
   "execution_count": 9,
   "metadata": {},
   "outputs": [],
   "source": [
    "task_mapping = {\n",
    "    \"PubChemSMILESBitextMining.json\": ['PubChemSMILESCanonDescBM.json',\n",
    "                                       'PubChemSMILESCanonTitleBM.json',\n",
    "                                       'PubChemSMILESISoDescBM.json',\n",
    "                                       'PubChemSMILESISoTitleBM.json',\n",
    "                                       ],\n",
    "    \"PubChemSMILESPC.json\": ['PubChemSMILESCanonDescPC.json',\n",
    "                             'PubChemSMILESCanonTitlePC.json',\n",
    "                             'PubChemSMILESIsoDescPC.json',\n",
    "                             'PubChemSMILESIsoTitlePC.json'\n",
    "                             ],\n",
    "    'WikipediaBiolumNeurochemClassification.json': 'WikipediaMedium2BioluminescenceVsNeurochemistryClassification.json',\n",
    "    'WikipediaBioMetChemClassification.json': 'WikipediaEasy2GeneExpressionVsMetallurgyClassification.json',\n",
    "    'WikipediaChemEngSpecialtiesClassification.json': 'WikipediaMedium5Classification.json',\n",
    "    'WikipediaChemFieldsClassification.json': 'WikipediaEZ10Classification.json',\n",
    "    'WikipediaChemistryTopicsClassification.json': 'WikipediaEasy10Classification.json',\n",
    "    'WikipediaChemistryTopicsClustering.json': 'WikipediaEasy10Clustering.json',\n",
    "    'WikipediaCompChemSpectroscopyClassification.json': 'WikipediaMedium2ComputationalVsSpectroscopistsClassification.json',\n",
    "    'WikipediaCryobiologySeparationClassification.json': 'WikipediaEasy5Classification.json',\n",
    "    'WikipediaCrystallographyAnalyticalClassification.json': 'WikipediaMedium2CrystallographyVsChromatographyTitrationpHClassification.json',\n",
    "    'WikipediaGreenhouseEnantiopureClassification.json': 'WikipediaEasy2GreenhouseVsEnantiopureClassification.json',\n",
    "    'WikipediaIsotopesFissionClassification.json':  'WikipediaHard2IsotopesVsFissionProductsNuclearFissionClassification.json',\n",
    "    'WikipediaLuminescenceClassification.json':  'WikipediaHard2BioluminescenceVsLuminescenceClassification.json',\n",
    "    'WikipediaOrganicInorganicClassification.json': 'WikipediaEasy2SpecialClassification.json',\n",
    "    'WikipediaSaltsSemiconductorsClassification.json': 'WikipediaHard2SaltsVsSemiconductorMaterialsClassification.json',\n",
    "    'WikipediaSolidStateColloidalClassification.json': 'WikipediaEasy2SolidStateVsColloidalClassification.json',\n",
    "    'WikipediaSpecialtiesInChemistryClustering.json':  'WikipediaMedium5Clustering.json',\n",
    "    'WikipediaTheoreticalAppliedClassification.json': 'WikipediaEZ2Classification.json',\n",
    "}"
   ]
  },
  {
   "cell_type": "code",
   "execution_count": 11,
   "metadata": {},
   "outputs": [
    {
     "name": "stderr",
     "output_type": "stream",
     "text": [
      "100%|██████████| 34/34 [00:01<00:00, 24.36it/s]\n"
     ]
    }
   ],
   "source": [
    "diffs = {}\n",
    "\n",
    "for model, rev in tqdm(model_rev_map.items()):\n",
    "    diffs[model] = {}\n",
    "    for task in TASKS:\n",
    "        if task == 'PubChemWikiPairClassification.json': # newly added task, not present in paper\n",
    "            continue\n",
    "        task_name = task.split('.')[0]\n",
    "        mteb_task_path = os.path.join(MTEB_RES, \"results\", model, rev, task)\n",
    "        mteb_score = read_main_score(mteb_task_path)\n",
    "\n",
    "        c_model = model_mapping.get(model, model)\n",
    "\n",
    "        c_rev = rev if os.path.exists(os.path.join(PAPER_RES, c_model, rev)) else os.listdir(\n",
    "            os.path.join(PAPER_RES, c_model))[0]\n",
    "\n",
    "        if task in task_mapping.keys():\n",
    "            if isinstance(task_mapping[task], list):\n",
    "                chem_score = 0\n",
    "                for t2 in task_mapping[task]:\n",
    "                    subttask_path = os.path.join(PAPER_RES, c_model, c_rev, t2)\n",
    "                    sub_score = read_main_score(subttask_path)\n",
    "                    chem_score += sub_score\n",
    "                chem_score = chem_score / len(task_mapping[task])\n",
    "                diffs[model][task_name] = chem_score - mteb_score\n",
    "            else:\n",
    "                chem_task_path = os.path.join(PAPER_RES, c_model, c_rev, task_mapping[task])\n",
    "                chem_score = read_main_score(chem_task_path)\n",
    "                diffs[model][task_name] = chem_score - mteb_score\n",
    "        else:\n",
    "            chem_task_path = os.path.join(PAPER_RES, c_model, c_rev, task)\n",
    "            chem_score = read_main_score(chem_task_path)\n",
    "            diffs[model][task_name] = chem_score - mteb_score"
   ]
  },
  {
   "cell_type": "code",
   "execution_count": 12,
   "metadata": {},
   "outputs": [],
   "source": [
    "df = pd.DataFrame.from_dict(diffs, orient=\"columns\")"
   ]
  },
  {
   "cell_type": "markdown",
   "metadata": {},
   "source": [
    "A negative value means that the proposed task in MTEB performed better than the same task when reproducing the paper’s results."
   ]
  },
  {
   "cell_type": "code",
   "execution_count": 20,
   "metadata": {},
   "outputs": [
    {
     "data": {
      "text/plain": [
       "PubChemWikiParagraphsPC                             0.237436\n",
       "PubChemSMILESPC                                     0.085895\n",
       "WikipediaIsotopesFissionClassification              0.027486\n",
       "WikipediaLuminescenceClassification                 0.021270\n",
       "WikipediaSpecialtiesInChemistryClustering           0.009875\n",
       "WikipediaGreenhouseEnantiopureClassification        0.006102\n",
       "WikipediaOrganicInorganicClassification             0.005592\n",
       "PubChemSynonymPC                                    0.003267\n",
       "SDSEyeProtectionClassification                      0.001166\n",
       "PubChemSMILESBitextMining                           0.000880\n",
       "WikipediaCrystallographyAnalyticalClassification   -0.000253\n",
       "SDSGlovesClassification                            -0.001646\n",
       "WikipediaChemistryTopicsClassification             -0.002229\n",
       "WikipediaCompChemSpectroscopyClassification        -0.002781\n",
       "WikipediaTheoreticalAppliedClassification          -0.005767\n",
       "WikipediaBioMetChemClassification                  -0.007841\n",
       "WikipediaBiolumNeurochemClassification             -0.008793\n",
       "ChemHotpotQARetrieval                              -0.010290\n",
       "WikipediaCryobiologySeparationClassification       -0.013279\n",
       "WikipediaChemFieldsClassification                  -0.015049\n",
       "WikipediaSaltsSemiconductorsClassification         -0.025906\n",
       "ChemNQRetrieval                                    -0.026759\n",
       "PubChemAISentenceParaphrasePC                      -0.028703\n",
       "WikipediaSolidStateColloidalClassification         -0.031028\n",
       "WikipediaChemEngSpecialtiesClassification          -0.040844\n",
       "WikipediaChemistryTopicsClustering                 -0.060160\n",
       "dtype: float64"
      ]
     },
     "execution_count": 20,
     "metadata": {},
     "output_type": "execute_result"
    }
   ],
   "source": [
    "df.mean(axis=1).sort_values(ascending=False)"
   ]
  },
  {
   "cell_type": "code",
   "execution_count": 21,
   "metadata": {},
   "outputs": [
    {
     "data": {
      "text/plain": [
       "0.004524595146259088"
      ]
     },
     "execution_count": 21,
     "metadata": {},
     "output_type": "execute_result"
    }
   ],
   "source": [
    "df.mean(axis=1).mean()"
   ]
  },
  {
   "cell_type": "code",
   "execution_count": null,
   "metadata": {},
   "outputs": [],
   "source": []
  }
 ],
 "metadata": {
  "kernelspec": {
   "display_name": "Python 3",
   "language": "python",
   "name": "python3"
  },
  "language_info": {
   "codemirror_mode": {
    "name": "ipython",
    "version": 3
   },
   "file_extension": ".py",
   "mimetype": "text/x-python",
   "name": "python",
   "nbconvert_exporter": "python",
   "pygments_lexer": "ipython3",
   "version": "3.12.0"
  }
 },
 "nbformat": 4,
 "nbformat_minor": 2
}
